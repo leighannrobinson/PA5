{
 "cells": [
  {
   "cell_type": "markdown",
   "id": "1f09f58a",
   "metadata": {},
   "source": [
    "# Programming Assignment 5\n",
    "## Leighann Robinson\n",
    "### Version 2\n",
    "#### CS150-01 FA 22"
   ]
  },
  {
   "cell_type": "markdown",
   "id": "c4b56a00",
   "metadata": {},
   "source": [
    "## part a"
   ]
  },
  {
   "cell_type": "code",
   "execution_count": 1,
   "id": "f51e1cdd",
   "metadata": {},
   "outputs": [
    {
     "name": "stdout",
     "output_type": "stream",
     "text": [
      "The area of the triangle is approximately  0.5 square units.\n",
      "The perimeter of the triangle is  1.5 linear units.\n"
     ]
    }
   ],
   "source": [
    "def calc_Area(a=1,b=1,c=1):\n",
    "    return (1/2)*a*b\n",
    "def calc_Perimeter(a,b,c):\n",
    "    return ((a+b+c)/2)\n",
    "area = calc_Area\n",
    "perimeter = calc_Perimeter \n",
    "print(\"The area of the triangle is approximately \", calc_Area(), \"square units.\")\n",
    "print(\"The perimeter of the triangle is \", calc_Perimeter(1,1,1), \"linear units.\")"
   ]
  },
  {
   "cell_type": "code",
   "execution_count": 2,
   "id": "0ee71f4a",
   "metadata": {},
   "outputs": [
    {
     "name": "stdout",
     "output_type": "stream",
     "text": [
      "Enter the length of side A: 14\n",
      "Enter the length of side B: 17\n",
      "Enter the length of side C: 24\n",
      "The area of the triangle is approximately  119.0 square units.\n",
      "The perimeter of the triangle is  27.5 linear units.\n"
     ]
    }
   ],
   "source": [
    "def calc_Area(a=1,b=1,c=1):\n",
    "    return (1/2)*a*b\n",
    "def calc_Perimeter(a,b,c):\n",
    "    return ((a+b+c)/2)\n",
    "a=int(input(\"Enter the length of side A: \"))\n",
    "b=int(input(\"Enter the length of side B: \"))\n",
    "c=int(input(\"Enter the length of side C: \"))\n",
    "print(\"The area of the triangle is approximately \", calc_Area(a,b,c), \"square units.\")\n",
    "print(\"The perimeter of the triangle is \", calc_Perimeter(a,b,c), \"linear units.\")"
   ]
  },
  {
   "cell_type": "markdown",
   "id": "03e55099",
   "metadata": {},
   "source": [
    "## part b"
   ]
  },
  {
   "cell_type": "code",
   "execution_count": 5,
   "id": "19a97714",
   "metadata": {},
   "outputs": [
    {
     "name": "stdout",
     "output_type": "stream",
     "text": [
      "Enter a number between 1 to 1000: 500\n",
      "Too high! Guess again\n",
      "Enter a number between 1 to 1000: 250\n",
      "Too low! Guess again\n",
      "Enter a number between 1 to 1000: 300\n",
      "Too low! Guess again\n",
      "Enter a number between 1 to 1000: 400\n",
      "Too high! Guess again\n",
      "Enter a number between 1 to 1000: 350\n",
      "Too high! Guess again\n",
      "Enter a number between 1 to 1000: 325\n",
      "Too low! Guess again\n",
      "Enter a number between 1 to 1000: 345\n",
      "Too high! Guess again\n",
      "Enter a number between 1 to 1000: 335\n",
      "Too low! Guess again\n",
      "Enter a number between 1 to 1000: 340\n",
      "Too low! Guess again\n",
      "Enter a number between 1 to 1000: 342\n",
      "You win!\n"
     ]
    }
   ],
   "source": [
    "import random\n",
    "number=random.randint(1,1000)\n",
    "evaluateGuess=None\n",
    "\n",
    "while evaluateGuess!=number:\n",
    "    evaluateGuess= int(input(\"Enter a number between 1 to 1000: \"))\n",
    "    if evaluateGuess==number:\n",
    "        print(\"You win!\")\n",
    "    elif evaluateGuess<number:\n",
    "        print(\"Too low! Guess again\")\n",
    "    elif evaluateGuess>number:\n",
    "        print(\"Too high! Guess again\")"
   ]
  },
  {
   "cell_type": "markdown",
   "id": "10a261c9",
   "metadata": {},
   "source": [
    "## part c"
   ]
  },
  {
   "cell_type": "code",
   "execution_count": 15,
   "id": "e6bacdfc",
   "metadata": {},
   "outputs": [],
   "source": [
    "#def meanTemp(*args):\n",
    " #   return sum(args)/len(args)"
   ]
  },
  {
   "cell_type": "code",
   "execution_count": 50,
   "id": "d0be7b93",
   "metadata": {},
   "outputs": [],
   "source": [
    "def meanTemp(*temps):\n",
    "    avg=sum(temps)/len(temps)\n",
    "    return avg"
   ]
  },
  {
   "cell_type": "code",
   "execution_count": 58,
   "id": "86a07b02",
   "metadata": {},
   "outputs": [
    {
     "data": {
      "text/plain": [
       "5"
      ]
     },
     "execution_count": 58,
     "metadata": {},
     "output_type": "execute_result"
    }
   ],
   "source": [
    "temps=(84,86,90,82,83)\n",
    "len(temps)"
   ]
  },
  {
   "cell_type": "code",
   "execution_count": 59,
   "id": "4c4114b9",
   "metadata": {},
   "outputs": [
    {
     "data": {
      "text/plain": [
       "85.0"
      ]
     },
     "execution_count": 59,
     "metadata": {},
     "output_type": "execute_result"
    }
   ],
   "source": [
    "meanTemp(84,86,90,82,83)"
   ]
  },
  {
   "cell_type": "code",
   "execution_count": 60,
   "id": "4c0f3629",
   "metadata": {},
   "outputs": [
    {
     "name": "stdout",
     "output_type": "stream",
     "text": [
      "The mean temperature for the past  5 days is 85.0 degrees F\n"
     ]
    }
   ],
   "source": [
    "print(f\"The mean temperature for the past \", len(temps), \"days is\", meanTemp(84,86,90,82,83), \"degrees F\")"
   ]
  },
  {
   "cell_type": "code",
   "execution_count": null,
   "id": "44382d12",
   "metadata": {},
   "outputs": [],
   "source": [
    "#### I'm having issues finding how to do this print statement for any number of temperatures without typing out a list myself"
   ]
  }
 ],
 "metadata": {
  "kernelspec": {
   "display_name": "Python 3 (ipykernel)",
   "language": "python",
   "name": "python3"
  },
  "language_info": {
   "codemirror_mode": {
    "name": "ipython",
    "version": 3
   },
   "file_extension": ".py",
   "mimetype": "text/x-python",
   "name": "python",
   "nbconvert_exporter": "python",
   "pygments_lexer": "ipython3",
   "version": "3.9.12"
  }
 },
 "nbformat": 4,
 "nbformat_minor": 5
}
